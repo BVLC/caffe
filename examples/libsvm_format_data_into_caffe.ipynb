{
 "metadata": {
  "name": "",
  "signature": "sha256:4cb52e439951ef85798d947a31bb63d6eebe06a17dafed8b3f5c62855fcd98e5"
 },
 "nbformat": 3,
 "nbformat_minor": 0,
 "worksheets": [
  {
   "cells": [
    {
     "cell_type": "markdown",
     "metadata": {},
     "source": [
      "# LIBSVM format data into CAFFE"
     ]
    },
    {
     "cell_type": "markdown",
     "metadata": {},
     "source": [
      "Here, you can see how you feed LIBSVM format data into CAFFE net."
     ]
    },
    {
     "cell_type": "code",
     "collapsed": false,
     "input": [
      "%pylab inline\n",
      "%cd ..\n",
      "import os, shutil\n",
      "dir_o = 'examples/tmp.libsvm_data'\n",
      "! mkdir -p {dir_o}"
     ],
     "language": "python",
     "metadata": {},
     "outputs": [
      {
       "output_type": "stream",
       "stream": "stdout",
       "text": [
        "Populating the interactive namespace from numpy and matplotlib\n",
        "/Users/takuya/Work/caffe\n"
       ]
      }
     ],
     "prompt_number": 1
    },
    {
     "cell_type": "markdown",
     "metadata": {},
     "source": [
      "Create a temporary directory"
     ]
    },
    {
     "cell_type": "markdown",
     "metadata": {},
     "source": [
      "# Dataset"
     ]
    },
    {
     "cell_type": "markdown",
     "metadata": {},
     "source": [
      "We use the hand-written digits dataset provided by Scikit-Learn as an example. Image has a shape of (8, 8). The number of class is 10. The number of sample is 1797."
     ]
    },
    {
     "cell_type": "code",
     "collapsed": false,
     "input": [
      "from sklearn.datasets import load_digits\n",
      "digits = load_digits()\n",
      "print digits.images.shape, digits.target.shape"
     ],
     "language": "python",
     "metadata": {},
     "outputs": [
      {
       "output_type": "stream",
       "stream": "stdout",
       "text": [
        "(1797, 8, 8) (1797,)\n"
       ]
      }
     ],
     "prompt_number": 2
    },
    {
     "cell_type": "markdown",
     "metadata": {},
     "source": [
      "Image is like this."
     ]
    },
    {
     "cell_type": "code",
     "collapsed": false,
     "input": [
      "imshow(digits.images[0], cmap=gray(), interpolation='none')"
     ],
     "language": "python",
     "metadata": {},
     "outputs": [
      {
       "metadata": {},
       "output_type": "pyout",
       "prompt_number": 3,
       "text": [
        "<matplotlib.image.AxesImage at 0x107a2cb50>"
       ]
      },
      {
       "metadata": {},
       "output_type": "display_data",
       "png": "[encoded data removed]",
       "text": [
        "<matplotlib.figure.Figure at 0x10753b9d0>"
       ]
      }
     ],
     "prompt_number": 3
    },
    {
     "cell_type": "markdown",
     "metadata": {},
     "source": [
      "Dataset is split into 2. We use first one for training and second one for testing."
     ]
    },
    {
     "cell_type": "code",
     "collapsed": false,
     "input": [
      "def split2(arr):\n",
      "    div = arr.shape[0] / 2\n",
      "    return arr[:div], arr[div:]\n",
      "data2 = split2(digits.data)\n",
      "target2 = split2(digits.target)\n",
      "print [d.shape[0] for d in data2]"
     ],
     "language": "python",
     "metadata": {},
     "outputs": [
      {
       "output_type": "stream",
       "stream": "stdout",
       "text": [
        "[898, 899]\n"
       ]
      }
     ],
     "prompt_number": 4
    },
    {
     "cell_type": "markdown",
     "metadata": {},
     "source": [
      "Here is just an example of training and testing of digits data using Logistic Regression provided by Scikit-Learn. The test accuracy is 91.7%."
     ]
    },
    {
     "cell_type": "code",
     "collapsed": false,
     "input": [
      "from sklearn.linear_model import LogisticRegression\n",
      "lr = LogisticRegression().fit(data2[0], target2[0])\n",
      "from sklearn.metrics import accuracy_score\n",
      "print 'Test Accuracy:', accuracy_score(target2[1], lr.predict(data2[1]))"
     ],
     "language": "python",
     "metadata": {},
     "outputs": [
      {
       "output_type": "stream",
       "stream": "stdout",
       "text": [
        "Test Accuracy: 0.916573971079\n"
       ]
      }
     ],
     "prompt_number": 5
    },
    {
     "cell_type": "markdown",
     "metadata": {},
     "source": [
      "# Digits data to LIBSVM format"
     ]
    },
    {
     "cell_type": "markdown",
     "metadata": {},
     "source": [
      "Dataset will be saved as LIBSVM format in order to use from CAFFE. The format is as following.\n",
      "\n",
      "    <label> <feature index 1>:<feature value 1> ... <feature index N>:<feature value N>"
     ]
    },
    {
     "cell_type": "code",
     "collapsed": false,
     "input": [
      "def libsvm_format_generator(data, target):\n",
      "    from StringIO import StringIO\n",
      "    for datum, tar in zip(data, target):\n",
      "        sio = StringIO()\n",
      "        print >> sio, tar,\n",
      "        for i, v in enumerate(datum):\n",
      "            if v == 0: continue\n",
      "            print >> sio, '%d:%g' % (i, v),\n",
      "        yield sio.getvalue()"
     ],
     "language": "python",
     "metadata": {},
     "outputs": [],
     "prompt_number": 6
    },
    {
     "cell_type": "markdown",
     "metadata": {},
     "source": [
      "One digit image is written as follows."
     ]
    },
    {
     "cell_type": "code",
     "collapsed": false,
     "input": [
      "print libsvm_format_generator(data2[0], target2[0]).next()"
     ],
     "language": "python",
     "metadata": {},
     "outputs": [
      {
       "output_type": "stream",
       "stream": "stdout",
       "text": [
        "0 2:5 3:13 4:9 5:1 10:13 11:15 12:10 13:15 14:5 17:3 18:15 19:2 21:11 22:8 25:4 26:12 29:8 30:8 33:5 34:8 37:9 38:8 41:4 42:11 44:1 45:12 46:7 49:2 50:14 51:5 52:10 53:12 58:6 59:13 60:10\n"
       ]
      }
     ],
     "prompt_number": 7
    },
    {
     "cell_type": "markdown",
     "metadata": {},
     "source": [
      "Write to files training and testing data respectively."
     ]
    },
    {
     "cell_type": "code",
     "collapsed": false,
     "input": [
      "with open(os.path.join(dir_o, 'input_train.txt'), 'w') as f:\n",
      "    for l in libsvm_format_generator(data2[0], target2[0]):\n",
      "        print >> f, l\n",
      "with open(os.path.join(dir_o, 'input_test.txt'), 'w') as f:\n",
      "    for l in libsvm_format_generator(data2[1], target2[1]):\n",
      "        print >> f, l"
     ],
     "language": "python",
     "metadata": {},
     "outputs": [],
     "prompt_number": 8
    },
    {
     "cell_type": "markdown",
     "metadata": {},
     "source": [
      "# Logistic Regression using CAFFE"
     ]
    },
    {
     "cell_type": "markdown",
     "metadata": {},
     "source": [
      "The following model works as Softmax Logistic Regression. To provide data from LIBSVM format data file, we use LIBSVM_DATA layer as below. You can specify input file by libsvm_data_param > source. You must set batch_size and channels (number of feature). You can set transofrm_param except crop_size and mirror."
     ]
    },
    {
     "cell_type": "code",
     "collapsed": false,
     "input": [
      "%%writefile {dir_o}/linear_train_test.prototxt\n",
      "name: \"digits_libsvm\"\n",
      "layers {\n",
      "  name: \"digits\"\n",
      "  type: LIBSVM_DATA\n",
      "  top: \"data\"\n",
      "  top: \"label\"\n",
      "  libsvm_data_param {\n",
      "    source: \"examples/tmp.libsvm_data/input_train.txt\"\n",
      "    batch_size: 100\n",
      "    channels: 64\n",
      "    shuffle: true\n",
      "  }\n",
      "  transform_param {\n",
      "    scale: 0.00392156862745098\n",
      "  }\n",
      "  include: { phase: TRAIN }\n",
      "}\n",
      "layers {\n",
      "  name: \"digits\"\n",
      "  type: LIBSVM_DATA\n",
      "  top: \"data\"\n",
      "  top: \"label\"\n",
      "  libsvm_data_param {\n",
      "    source: \"examples/tmp.libsvm_data/input_test.txt\"\n",
      "    batch_size: 899\n",
      "    channels: 64\n",
      "    shuffle: false\n",
      "  }\n",
      "  transform_param {\n",
      "    scale: 0.00392156862745098\n",
      "  }\n",
      "  include: { phase: TEST }\n",
      "}\n",
      "layers {\n",
      "  name: \"ip1\"\n",
      "  type: INNER_PRODUCT\n",
      "  bottom: \"data\"\n",
      "  top: \"ip1\"\n",
      "  blobs_lr: 1\n",
      "  blobs_lr: 2\n",
      "  inner_product_param {\n",
      "    num_output: 64\n",
      "    weight_filler {\n",
      "      type: \"gaussian\"\n",
      "      std: 0.1\n",
      "    }\n",
      "    bias_filler {\n",
      "      type: \"constant\"\n",
      "    }\n",
      "  }\n",
      "}\n",
      "layers {\n",
      "  name: \"accuracy\"\n",
      "  type: ACCURACY\n",
      "  bottom: \"ip1\"\n",
      "  bottom: \"label\"\n",
      "  top: \"accuracy\"\n",
      "  include: { phase: TEST }\n",
      "}\n",
      "layers {\n",
      "  name: \"loss\"\n",
      "  type: SOFTMAX_LOSS\n",
      "  bottom: \"ip1\"\n",
      "  bottom: \"label\"\n",
      "  top: \"loss\"\n",
      "}"
     ],
     "language": "python",
     "metadata": {},
     "outputs": [
      {
       "output_type": "stream",
       "stream": "stdout",
       "text": [
        "Writing examples/tmp.libsvm_data/linear_train_test.prototxt\n"
       ]
      }
     ],
     "prompt_number": 9
    },
    {
     "cell_type": "markdown",
     "metadata": {},
     "source": [
      "Solver is simple. No special setting."
     ]
    },
    {
     "cell_type": "code",
     "collapsed": false,
     "input": [
      "%%writefile {dir_o}/linear_solver.prototxt\n",
      "net: \"examples/tmp.libsvm_data/linear_train_test.prototxt\"\n",
      "test_iter: 1\n",
      "test_interval: 1000\n",
      "base_lr: 1.0\n",
      "momentum: 0.9\n",
      "#weight_decay: 0.00001\n",
      "lr_policy: \"fixed\"\n",
      "display: 1000\n",
      "max_iter: 4000\n",
      "snapshot: 4000\n",
      "snapshot_prefix: \"examples/tmp.libsvm_data/linear\"\n",
      "solver_mode: CPU\n",
      "random_seed: 0 # Just for reproducible purpose"
     ],
     "language": "python",
     "metadata": {},
     "outputs": [
      {
       "output_type": "stream",
       "stream": "stdout",
       "text": [
        "Writing examples/tmp.libsvm_data/linear_solver.prototxt\n"
       ]
      }
     ],
     "prompt_number": 10
    },
    {
     "cell_type": "markdown",
     "metadata": {},
     "source": [
      "## Run CAFFE training"
     ]
    },
    {
     "cell_type": "code",
     "collapsed": false,
     "input": [
      "!build/tools/caffe  train --solver={dir_o}/linear_solver.prototxt 2>&1 | egrep -A1 \"Iteration .*, Test\""
     ],
     "language": "python",
     "metadata": {},
     "outputs": [
      {
       "output_type": "stream",
       "stream": "stdout",
       "text": [
        "I1212 21:28:49.545277 2074399488 solver.cpp:247] \u001b[1;32m\u001b[KIteration 0, Test\u001b[m\u001b[King net (#0)\r\n",
        "I1212 21:28:49.561161 2074399488 solver.cpp:298]     Test net output #0: accuracy = 0\r\n"
       ]
      },
      {
       "output_type": "stream",
       "stream": "stdout",
       "text": [
        "--\r\n",
        "I1212 21:28:50.505483 2074399488 solver.cpp:247] \u001b[1;32m\u001b[KIteration 1000, Test\u001b[m\u001b[King net (#0)\r\n",
        "I1212 21:28:50.514246 2074399488 solver.cpp:298]     Test net output #0: accuracy = 0.904338\r\n"
       ]
      },
      {
       "output_type": "stream",
       "stream": "stdout",
       "text": [
        "--\r\n",
        "I1212 21:28:51.252451 2074399488 solver.cpp:247] \u001b[1;32m\u001b[KIteration 2000, Test\u001b[m\u001b[King net (#0)\r\n",
        "I1212 21:28:51.259482 2074399488 solver.cpp:298]     Test net output #0: accuracy = 0.904338\r\n"
       ]
      },
      {
       "output_type": "stream",
       "stream": "stdout",
       "text": [
        "--\r\n",
        "I1212 21:28:51.994504 2074399488 solver.cpp:247] \u001b[1;32m\u001b[KIteration 3000, Test\u001b[m\u001b[King net (#0)\r\n",
        "I1212 21:28:52.001040 2074399488 solver.cpp:298]     Test net output #0: accuracy = 0.917686\r\n"
       ]
      },
      {
       "output_type": "stream",
       "stream": "stdout",
       "text": [
        "--\r\n",
        "I1212 21:28:52.689991 2074399488 solver.cpp:247] \u001b[1;32m\u001b[KIteration 4000, Test\u001b[m\u001b[King net (#0)\r\n"
       ]
      },
      {
       "output_type": "stream",
       "stream": "stdout",
       "text": [
        "I1212 21:28:52.697223 2074399488 solver.cpp:298]     Test net output #0: accuracy = 0.925473\r\n"
       ]
      }
     ],
     "prompt_number": 11
    },
    {
     "cell_type": "markdown",
     "metadata": {},
     "source": [
      "The test accuracy was 92.5 % which was similar result to ScikitLearn one."
     ]
    },
    {
     "cell_type": "markdown",
     "metadata": {},
     "source": [
      "### 2 layer MLP"
     ]
    },
    {
     "cell_type": "markdown",
     "metadata": {},
     "source": [
      "Just an example"
     ]
    },
    {
     "cell_type": "code",
     "collapsed": false,
     "input": [
      "%%writefile {dir_o}/mlp_train_test.prototxt\n",
      "name: \"digits_libsvm\"\n",
      "layers {\n",
      "  name: \"digits\"\n",
      "  type: LIBSVM_DATA\n",
      "  top: \"data\"\n",
      "  top: \"label\"\n",
      "  libsvm_data_param {\n",
      "    source: \"examples/tmp.libsvm_data/input_train.txt\"\n",
      "    batch_size: 100\n",
      "    channels: 64\n",
      "    shuffle: true\n",
      "  }\n",
      "  transform_param {\n",
      "    scale: 0.00392156862745098\n",
      "  }\n",
      "  include: { phase: TRAIN }\n",
      "}\n",
      "layers {\n",
      "  name: \"digits\"\n",
      "  type: LIBSVM_DATA\n",
      "  top: \"data\"\n",
      "  top: \"label\"\n",
      "  libsvm_data_param {\n",
      "    source: \"examples/tmp.libsvm_data/input_test.txt\"\n",
      "    batch_size: 899\n",
      "    channels: 64\n",
      "    shuffle: false\n",
      "  }\n",
      "  transform_param {\n",
      "    scale: 0.00392156862745098\n",
      "  }\n",
      "  include: { phase: TEST }\n",
      "}\n",
      "layers {\n",
      "  name: \"ip1\"\n",
      "  type: INNER_PRODUCT\n",
      "  bottom: \"data\"\n",
      "  top: \"ip1\"\n",
      "  blobs_lr: 1\n",
      "  blobs_lr: 2\n",
      "  inner_product_param {\n",
      "    num_output: 64\n",
      "    weight_filler {\n",
      "      type: \"gaussian\"\n",
      "      std: 0.1\n",
      "    }\n",
      "    bias_filler {\n",
      "      type: \"constant\"\n",
      "    }\n",
      "  }\n",
      "}\n",
      "layers {\n",
      "  name: \"relu1\"\n",
      "  type: RELU\n",
      "  bottom: \"ip1\"\n",
      "  top: \"ip1\"\n",
      "}\n",
      "layers {\n",
      "  name: \"ip2\"\n",
      "  type: INNER_PRODUCT\n",
      "  bottom: \"ip1\"\n",
      "  top: \"ip2\"\n",
      "  blobs_lr: 1\n",
      "  blobs_lr: 2\n",
      "  inner_product_param {\n",
      "    num_output: 10\n",
      "    weight_filler {\n",
      "      type: \"gaussian\"\n",
      "      std: 0.1\n",
      "    }\n",
      "    bias_filler {\n",
      "      type: \"constant\"\n",
      "    }\n",
      "  }\n",
      "}\n",
      "layers {\n",
      "  name: \"accuracy\"\n",
      "  type: ACCURACY\n",
      "  bottom: \"ip2\"\n",
      "  bottom: \"label\"\n",
      "  top: \"accuracy\"\n",
      "  include: { phase: TEST }\n",
      "}\n",
      "layers {\n",
      "  name: \"loss\"\n",
      "  type: SOFTMAX_LOSS\n",
      "  bottom: \"ip2\"\n",
      "  bottom: \"label\"\n",
      "  top: \"loss\"\n",
      "}"
     ],
     "language": "python",
     "metadata": {},
     "outputs": [
      {
       "output_type": "stream",
       "stream": "stdout",
       "text": [
        "Writing examples/tmp.libsvm_data/mlp_train_test.prototxt\n"
       ]
      }
     ],
     "prompt_number": 12
    },
    {
     "cell_type": "code",
     "collapsed": false,
     "input": [
      "%%writefile {dir_o}/mlp_solver.prototxt\n",
      "net: \"examples/tmp.libsvm_data/mlp_train_test.prototxt\"\n",
      "test_iter: 1\n",
      "test_interval: 1000\n",
      "base_lr: 0.1\n",
      "momentum: 0.9\n",
      "weight_decay: 0.00001\n",
      "lr_policy: \"fixed\"\n",
      "display: 1000\n",
      "max_iter: 4000\n",
      "snapshot: 4000\n",
      "snapshot_prefix: \"examples/tmp.libsvm_data/mlp\"\n",
      "solver_mode: CPU\n",
      "random_seed: 0 # Just for reproducible purpose"
     ],
     "language": "python",
     "metadata": {},
     "outputs": [
      {
       "output_type": "stream",
       "stream": "stdout",
       "text": [
        "Writing examples/tmp.libsvm_data/mlp_solver.prototxt\n"
       ]
      }
     ],
     "prompt_number": 13
    },
    {
     "cell_type": "code",
     "collapsed": false,
     "input": [
      "!build/tools/caffe  train --solver={dir_o}/mlp_solver.prototxt 2>&1 | egrep -A1 \"Iteration .*, Test\""
     ],
     "language": "python",
     "metadata": {},
     "outputs": [
      {
       "output_type": "stream",
       "stream": "stdout",
       "text": [
        "I1212 21:28:53.153337 2074399488 solver.cpp:247] \u001b[1;32m\u001b[KIteration 0, Test\u001b[m\u001b[King net (#0)\r\n",
        "I1212 21:28:53.157271 2074399488 solver.cpp:298]     Test net output #0: accuracy = 0.18465\r\n"
       ]
      },
      {
       "output_type": "stream",
       "stream": "stdout",
       "text": [
        "--\r\n",
        "I1212 21:28:53.533761 2074399488 solver.cpp:247] \u001b[1;32m\u001b[KIteration 1000, Test\u001b[m\u001b[King net (#0)\r\n",
        "I1212 21:28:53.536794 2074399488 solver.cpp:298]     Test net output #0: accuracy = 0.897664\r\n"
       ]
      },
      {
       "output_type": "stream",
       "stream": "stdout",
       "text": [
        "--\r\n",
        "I1212 21:28:53.946993 2074399488 solver.cpp:247] \u001b[1;32m\u001b[KIteration 2000, Test\u001b[m\u001b[King net (#0)\r\n",
        "I1212 21:28:53.951678 2074399488 solver.cpp:298]     Test net output #0: accuracy = 0.92436\r\n"
       ]
      },
      {
       "output_type": "stream",
       "stream": "stdout",
       "text": [
        "--\r\n",
        "I1212 21:28:54.401706 2074399488 solver.cpp:247] \u001b[1;32m\u001b[KIteration 3000, Test\u001b[m\u001b[King net (#0)\r\n",
        "I1212 21:28:54.404630 2074399488 solver.cpp:298]     Test net output #0: accuracy = 0.92881\r\n"
       ]
      },
      {
       "output_type": "stream",
       "stream": "stdout",
       "text": [
        "--\r\n",
        "I1212 21:28:54.811215 2074399488 solver.cpp:247] \u001b[1;32m\u001b[KIteration 4000, Test\u001b[m\u001b[King net (#0)\r\n",
        "I1212 21:28:54.814102 2074399488 solver.cpp:298]     Test net output #0: accuracy = 0.941046\r\n"
       ]
      }
     ],
     "prompt_number": 14
    },
    {
     "cell_type": "markdown",
     "metadata": {},
     "source": [
      "Remove temporary directory"
     ]
    },
    {
     "cell_type": "code",
     "collapsed": false,
     "input": [
      "!rm -rf {dir_o}"
     ],
     "language": "python",
     "metadata": {},
     "outputs": [],
     "prompt_number": 15
    }
   ],
   "metadata": {}
  }
 ]
}
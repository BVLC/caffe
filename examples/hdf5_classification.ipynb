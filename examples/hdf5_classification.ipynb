{
 "metadata": {
  "name": "Learning a classifier on HDF5 data",
  "description": "Use Caffe as a generic SGD optimizer to train a classifier on non-image HDF5 data.",
  "include_in_docs": true,
  "signature": "sha256:9ec08127fb61240a29be7b30a2ed833d5cb644d77f6c7d126171b34758d5f434"
 },
 "nbformat": 3,
 "nbformat_minor": 0,
 "worksheets": [
  {
   "cells": [
    {
     "cell_type": "markdown",
     "metadata": {},
     "source": [
      "# Caffe as a generic SGD optimizer, running on free-form data in HDF5 format"
     ]
    },
    {
     "cell_type": "code",
     "collapsed": false,
     "input": [],
     "language": "python",
     "metadata": {},
     "outputs": []
    }
   ],
   "metadata": {}
  }
 ]
}

{
 "cells": [
  {
   "cell_type": "markdown",
   "metadata": {},
   "source": [
    "# PyLMDB Creator\n",
    "This notebook gives a brief overview over the capacities of the PyLMDB Creator. With this module you can insert any 4D Numpy ndarray of type uint8 into LMDBs which can then be used in any standard proto file. This bypasses the need to save the images to disk first and using the convert_imageset script then."
   ]
  },
  {
   "cell_type": "markdown",
   "metadata": {
    "collapsed": true
   },
   "source": [
    "## Creating an LMDB from a list of ndarrays\n",
    "The code snippets below show how create a LMDB when all ndarrays to be inserted are already present.\n",
    "For the sake of example, we create a number of random ndarrays and corresponding labels which we can then insert."
   ]
  },
  {
   "cell_type": "code",
   "execution_count": null,
   "metadata": {
    "collapsed": false
   },
   "outputs": [],
   "source": [
    "import numpy as np\n",
    "from caffe_lmdb.lmdb_creator import LMDBCreator\n",
    "\n",
    "n_dummy_images = 10000\n",
    "dummy_data = [np.random.randint(0,256, (1, 224,224), dtype=np.uint8)\n",
    "              for _ in xrange(n_dummy_images)]\n",
    "labels = list(xrange(n_dummy_images))"
   ]
  },
  {
   "cell_type": "markdown",
   "metadata": {},
   "source": [
    "Now we define where to create the LMDB and put all images from the list into the database."
   ]
  },
  {
   "cell_type": "code",
   "execution_count": null,
   "metadata": {
    "collapsed": true
   },
   "outputs": [],
   "source": [
    "lmdb_path = '/tmp/batch_lmdb'\n",
    "lmdb_creator = LMDBCreator()\n",
    "lmdb_creator.create_single_lmdb_from_ndarray_batch(array_list=dummy_data, labels_list=labels, \n",
    "                                                   lmdb_path=lmdb_path, max_lmdb_size=1024**3)"
   ]
  },
  {
   "cell_type": "markdown",
   "metadata": {},
   "source": [
    "That's it, the LMDB should now exist at the specified path. The LMDBCreator class uses the standard python logger instead of printing. If you defined your logging environment, you should see the LMDBCreator output some information. "
   ]
  },
  {
   "cell_type": "markdown",
   "metadata": {},
   "source": [
    "## Dynamically create an LMDB\n",
    "Sometimes having all the data in memory before creating the LMDB is not possible. This can for example happen when dealing with large datasets like the ImageNet or when heavily augmenting smaller datasets.\n",
    "The LMDBCreator class offers the possibility to create an LMDB in an online fashion."
   ]
  },
  {
   "cell_type": "code",
   "execution_count": null,
   "metadata": {
    "collapsed": true
   },
   "outputs": [],
   "source": [
    "import numpy as np\n",
    "from caffe_lmdb.lmdb_creator import LMDBCreator\n",
    "\n",
    "n_dummy_images = 10000\n",
    "lmdb_path = '/tmp/online_single_lmdb'\n",
    "\n",
    "# get an LMDBCreator object and prepare for online writing\n",
    "lmdb_creator = LMDBCreator()\n",
    "lmdb_creator.open_single_lmdb_for_write(lmdb_path=lmdb_path)\n",
    "\n",
    "# insert the images\n",
    "for label in xrange(n_dummy_images):\n",
    "    # we create a dummy image here but this is where augmentation\n",
    "    # or loading could happen\n",
    "    dummy_mat = np.random.randint(0,256, (1, 224,224), dtype=np.uint8)\n",
    "    # put the image into the LMDB\n",
    "    lmdb_creator.put_single(img_mat=dummy_datum, label=label)\n",
    "    \n",
    "# wrap up LMDB creation\n",
    "lmdb_creator.finish_creation()"
   ]
  },
  {
   "cell_type": "markdown",
   "metadata": {},
   "source": [
    "Again, there should be some logging output if you defined your environment. "
   ]
  },
  {
   "cell_type": "markdown",
   "metadata": {},
   "source": [
    "## Create dual LMDB\n",
    "A Caffe Datum does not provide the possibility to assign labels as vectors or matrices. However, this representation is inevitable when dealing with tasks such as multi-label classification or semantic segmentation. In Caffe one usually has to create two LMDBs and then include them in the specific proto file.\n",
    "The LMDBCreator offers the possibility to wrap the creation of two LMDBs. The following snippet creates two LMDBs where each image in the first has a correpsonding label with the same key in the second."
   ]
  },
  {
   "cell_type": "code",
   "execution_count": null,
   "metadata": {
    "collapsed": true
   },
   "outputs": [],
   "source": [
    "import numpy as np\n",
    "from caffe_lmdb.lmdb_creator import LMDBCreator\n",
    "\n",
    "n_dummy_images = 10000\n",
    "image_lmdb_path = '/tmp/image_lmdb'\n",
    "label_lmdb_path = '/tmp/label_lmdb'\n",
    "\n",
    "# get an LMDBCreator object and prepare for online writing\n",
    "lmdb_creator = LMDBCreator()\n",
    "lmdb_creator.open_dual_lmdb_for_write(lmdb_path=image_lmdb_path,\n",
    "                                      additional_path=label_lmdb_path)\n",
    "\n",
    "# insert the images\n",
    "for label in xrange(n_dummy_images):\n",
    "    # again, we could do the augmentation or loading of images here\n",
    "    img_mat = np.random.randint(0,256, (1, 224,224), dtype=np.uint8)\n",
    "    label_mat = np.random.randint(0,256, (1, 224,224), dtype=np.uint8)\n",
    "    \n",
    "    # put the arrays into the databases\n",
    "    lmdb_creator.put_dual(img_mat=dummy_datum, \n",
    "                          additional_mat=label_mat,\n",
    "                          label=label)\n",
    "    \n",
    "# wrap up LMDB creation\n",
    "lmdb_creator.finish_creation()"
   ]
  },
  {
   "cell_type": "markdown",
   "metadata": {},
   "source": [
    "## Create shuffled LMDBs\n",
    "If you want to shuffle your data there are two ways to do so: The most obvious is to shuffle the order you insert arrays. This, however, can become cumbersome real quickly. The easiest way to shuffle the order of data in your LMDB is by supplying your own keys. The only thing you have to know before is how many Datum objects you are planning to insert.\n",
    "The following snippet shows how to insert Caffe Data at random databases positions."
   ]
  },
  {
   "cell_type": "code",
   "execution_count": null,
   "metadata": {
    "collapsed": true
   },
   "outputs": [],
   "source": [
    "import numpy as np\n",
    "from caffe_lmdb.lmdb_creator import LMDBCreator\n",
    "\n",
    "n_dummy_images = 10000\n",
    "image_lmdb_path = '/tmp/image_lmdb'\n",
    "label_lmdb_path = '/tmp/label_lmdb'\n",
    "\n",
    "# create random order to insert\n",
    "rand_indices = np.arange(n_dummy_images)\n",
    "np.random.shuffle(rand_indices)\n",
    "\n",
    "# get an LMDBCreator object and prepare for online writing\n",
    "lmdb_creator = LMDBCreator()\n",
    "lmdb_creator.open_dual_lmdb_for_write(lmdb_path=image_lmdb_path,\n",
    "                                      additional_path=label_lmdb_path)\n",
    "\n",
    "# insert the images\n",
    "# we don't actually need the enumerate here, this is just\n",
    "# for clarification\n",
    "for idx, label in enumerate(xrange(n_dummy_images)):\n",
    "    img_mat = np.random.randint(0,256, (1, 224,224), dtype=np.uint8)\n",
    "    label_mat = np.random.randint(0,256, (1, 224,224), dtype=np.uint8)\n",
    "    \n",
    "    # create a key based on the random index from above\n",
    "    key='%s_%d' % (str(rand_indices[idx]).zfill(8), label)\n",
    "    \n",
    "    # put the arrays into the databases\n",
    "    lmdb_creator.put_dual(img_mat=dummy_datum, \n",
    "                          additional_mat=label_mat,\n",
    "                          label=label,\n",
    "                          key=key)\n",
    "    \n",
    "# wrap up LMDB creation\n",
    "lmdb_creator.finish_creation()"
   ]
  },
  {
   "cell_type": "markdown",
   "metadata": {},
   "source": [
    "The Datum objects are now inserted in a random order as any net using a LMDB iterates the database in alphabetical order."
   ]
  }
 ],
 "metadata": {
  "kernelspec": {
   "display_name": "Python 2",
   "language": "python",
   "name": "python2"
  },
  "language_info": {
   "codemirror_mode": {
    "name": "ipython",
    "version": 2
   },
   "file_extension": ".py",
   "mimetype": "text/x-python",
   "name": "python",
   "nbconvert_exporter": "python",
   "pygments_lexer": "ipython2",
   "version": "2.7.10"
  }
 },
 "nbformat": 4,
 "nbformat_minor": 0
}

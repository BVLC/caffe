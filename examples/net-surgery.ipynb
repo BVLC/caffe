{
 "metadata": {
  "description": "How to do net surgery and manually change model parameters for custom use.",
  "example_name": "Editing model parameters",
  "include_in_docs": true,
  "kernelspec": {
   "display_name": "Python 2",
   "language": "python",
   "name": "python2"
  },
  "language_info": {
   "codemirror_mode": {
    "name": "ipython",
    "version": 2
   },
   "file_extension": ".py",
   "mimetype": "text/x-python",
   "name": "python",
   "nbconvert_exporter": "python",
   "pygments_lexer": "ipython2",
   "version": "2.7.9"
  },
  "name": "",
  "priority": 5
 },
 "nbformat": 3,
 "nbformat_minor": 0,
 "worksheets": [
  {
   "cells": [
    {
     "cell_type": "markdown",
     "metadata": {},
     "source": [
      "# Net Surgery\n",
      "\n",
      "Caffe networks can be transformed to your particular needs by editing the model parameters. The data, diffs, and parameters of a net are all exposed in pycaffe.\n",
      "\n",
      "Roll up your sleeves for net surgery with pycaffe!"
     ]
    },
    {
     "cell_type": "code",
     "collapsed": false,
     "input": [
      "import numpy as np\n",
      "import matplotlib.pyplot as plt\n",
      "%matplotlib inline\n",
      "import Image\n",
      "\n",
      "# Make sure that caffe is on the python path:\n",
      "caffe_root = '../'  # this file is expected to be in {caffe_root}/examples\n",
      "import sys\n",
      "sys.path.insert(0, caffe_root + 'python')\n",
      "\n",
      "import caffe\n",
      "\n",
      "# configure plotting\n",
      "plt.rcParams['figure.figsize'] = (10, 10)\n",
      "plt.rcParams['image.interpolation'] = 'nearest'\n",
      "plt.rcParams['image.cmap'] = 'gray'"
     ],
     "language": "python",
     "metadata": {},
     "outputs": []
    },
    {
     "cell_type": "markdown",
     "metadata": {},
     "source": [
      "## Designer Filters\n",
      "\n",
      "To show how to load, manipulate, and save parameters we'll design our own filters into a simple network that's only a single convolution layer. This net has two blobs, `data` for the input and `conv` for the convolution output and one parameter `conv` for the convolution filter weights and biases."
     ]
    },
    {
     "cell_type": "code",
     "collapsed": false,
     "input": [
      "# Load the net, list its data and params, and filter an example image.\n",
      "caffe.set_mode_cpu()\n",
      "net = caffe.Net('net_surgery/conv.prototxt', caffe.TEST)\n",
      "print(\"blobs {}\\nparams {}\".format(net.blobs.keys(), net.params.keys()))\n",
      "\n",
      "# load image and prepare as a single input batch for Caffe\n",
      "im = np.array(Image.open('images/cat_gray.jpg'))\n",
      "plt.title(\"original image\")\n",
      "plt.imshow(im)\n",
      "plt.axis('off')\n",
      "\n",
      "im_input = im[np.newaxis, np.newaxis, :, :]\n",
      "net.blobs['data'].reshape(*im_input.shape)\n",
      "net.blobs['data'].data[...] = im_input"
     ],
     "language": "python",
     "metadata": {},
     "outputs": []
    },
    {
     "cell_type": "markdown",
     "metadata": {},
     "source": [
      "The convolution weights are initialized from Gaussian noise while the biases are initialized to zero. These random filters give output somewhat like edge detections."
     ]
    },
    {
     "cell_type": "code",
     "collapsed": false,
     "input": [
      "# helper show filter outputs\n",
      "def show_filters(net):\n",
      "    net.forward()\n",
      "    plt.figure()\n",
      "    filt_min, filt_max = net.blobs['conv'].data.min(), net.blobs['conv'].data.max()\n",
      "    for i in range(3):\n",
      "        plt.subplot(1,4,i+2)\n",
      "        plt.title(\"filter #{} output\".format(i))\n",
      "        plt.imshow(net.blobs['conv'].data[0, i], vmin=filt_min, vmax=filt_max)\n",
      "        plt.tight_layout()\n",
      "        plt.axis('off')\n",
      "\n",
      "# filter the image with initial \n",
      "show_filters(net)"
     ],
     "language": "python",
     "metadata": {},
     "outputs": []
    },
    {
     "cell_type": "markdown",
     "metadata": {},
     "source": [
      "Raising the bias of a filter will correspondingly raise its output:"
     ]
    },
    {
     "cell_type": "code",
     "collapsed": false,
     "input": [
      "# pick first filter output\n",
      "conv0 = net.blobs['conv'].data[0, 0]\n",
      "print(\"pre-surgery output mean {:.2f}\".format(conv0.mean()))\n",
      "# set first filter bias to 10\n",
      "net.params['conv'][1].data[0] = 1.\n",
      "net.forward()\n",
      "print(\"post-surgery output mean {:.2f}\".format(conv0.mean()))"
     ],
     "language": "python",
     "metadata": {},
     "outputs": []
    },
    {
     "cell_type": "markdown",
     "metadata": {},
     "source": [
      "Altering the filter weights is more exciting since we can assign any kernel like Gaussian blur, the Sobel operator for edges, and so on. The following surgery turns the 0th filter into a Gaussian blur and the 1st and 2nd filters into the horizontal and vertical gradient parts of the Sobel operator.\n",
      "\n",
      "See how the 0th output is blurred, the 1st picks up horizontal edges, and the 2nd picks up vertical edges."
     ]
    },
    {
     "cell_type": "code",
     "collapsed": false,
     "input": [
      "ksize = net.params['conv'][0].data.shape[2:]\n",
      "# make Gaussian blur\n",
      "sigma = 1.\n",
      "y, x = np.mgrid[-ksize[0]//2 + 1:ksize[0]//2 + 1, -ksize[1]//2 + 1:ksize[1]//2 + 1]\n",
      "g = np.exp(-((x**2 + y**2)/(2.0*sigma**2)))\n",
      "gaussian = (g / g.sum()).astype(np.float32)\n",
      "net.params['conv'][0].data[0] = gaussian\n",
      "# make Sobel operator for edge detection\n",
      "net.params['conv'][0].data[1:] = 0.\n",
      "sobel = np.array((-1, -2, -1, 0, 0, 0, 1, 2, 1), dtype=np.float32).reshape((3,3))\n",
      "net.params['conv'][0].data[1, 0, 1:-1, 1:-1] = sobel  # horizontal\n",
      "net.params['conv'][0].data[2, 0, 1:-1, 1:-1] = sobel.T  # vertical\n",
      "show_filters(net)"
     ],
     "language": "python",
     "metadata": {},
     "outputs": []
    },
    {
     "cell_type": "markdown",
     "metadata": {},
     "source": [
      "With net surgery, parameters can be transplanted across nets, regularized by custom per-parameter operations, and transformed according to your schemes."
     ]
    },
    {
     "cell_type": "markdown",
     "metadata": {},
     "source": [
      "## Casting a Classifier into a Fully Convolutional Network\n",
      "\n",
      "Let's take the standard Caffe Reference ImageNet model \"CaffeNet\" and transform it into a fully convolutional net for efficient, dense inference on large inputs. This model generates a classification map that covers a given input size instead of a single classification. In particular a 8 $\\times$ 8 classification map on a 451 $\\times$ 451 input gives 64x the output in only 3x the time. The computation exploits a natural efficiency of convolutional network (convnet) structure by amortizing the computation of overlapping receptive fields.\n",
      "\n",
      "To do so we translate the `InnerProduct` matrix multiplication layers of CaffeNet into `Convolutional` layers. This is the only change: the other layer types are agnostic to spatial size. Convolution is translation-invariant, activations are elementwise operations, and so on. The `fc6` inner product when carried out as convolution by `fc6-conv` turns into a 6 \\times 6 filter with stride 1 on `pool5`. Back in image space this gives a classification for each 227 $\\times$ 227 box with stride 32 in pixels. Remember the equation for output map / receptive field size, output = (input - kernel_size) / stride + 1, and work out the indexing details for a clear understanding."
     ]
    },
    {
     "cell_type": "code",
     "collapsed": false,
     "input": [
      "!diff net_surgery/bvlc_caffenet_full_conv.prototxt ../models/bvlc_reference_caffenet/deploy.prototxt"
     ],
     "language": "python",
     "metadata": {},
     "outputs": []
    },
    {
     "cell_type": "markdown",
     "metadata": {},
     "source": [
      "The only differences needed in the architecture are to change the fully connected classifier inner product layers into convolutional layers with the right filter size -- 6 x 6, since the reference model classifiers take the 36 elements of `pool5` as input -- and stride 1 for dense classification. Note that the layers are renamed so that Caffe does not try to blindly load the old parameters when it maps layer names to the pretrained model."
     ]
    },
    {
     "cell_type": "code",
     "collapsed": false,
     "input": [
      "# Make sure that caffe is on the python path:\n",
      "caffe_root = '../'  # this file is expected to be in {caffe_root}/examples\n",
      "import sys\n",
      "sys.path.insert(0, caffe_root + 'python')\n",
      "\n",
      "import caffe\n",
      "\n",
      "# Load the original network and extract the fully connected layers' parameters.\n",
      "net = caffe.Net('../models/bvlc_reference_caffenet/deploy.prototxt', \n",
      "                '../models/bvlc_reference_caffenet/bvlc_reference_caffenet.caffemodel', \n",
      "                caffe.TEST)\n",
      "params = ['fc6', 'fc7', 'fc8']\n",
      "# fc_params = {name: (weights, biases)}\n",
      "fc_params = {pr: (net.params[pr][0].data, net.params[pr][1].data) for pr in params}\n",
      "\n",
      "for fc in params:\n",
      "    print '{} weights are {} dimensional and biases are {} dimensional'.format(fc, fc_params[fc][0].shape, fc_params[fc][1].shape)"
     ],
     "language": "python",
     "metadata": {},
     "outputs": []
    },
    {
     "cell_type": "markdown",
     "metadata": {},
     "source": [
      "Consider the shapes of the inner product parameters. The weight dimensions are the output and input sizes while the bias dimension is the output size."
     ]
    },
    {
     "cell_type": "code",
     "collapsed": false,
     "input": [
      "# Load the fully convolutional network to transplant the parameters.\n",
      "net_full_conv = caffe.Net('net_surgery/bvlc_caffenet_full_conv.prototxt', \n",
      "                          '../models/bvlc_reference_caffenet/bvlc_reference_caffenet.caffemodel',\n",
      "                          caffe.TEST)\n",
      "params_full_conv = ['fc6-conv', 'fc7-conv', 'fc8-conv']\n",
      "# conv_params = {name: (weights, biases)}\n",
      "conv_params = {pr: (net_full_conv.params[pr][0].data, net_full_conv.params[pr][1].data) for pr in params_full_conv}\n",
      "\n",
      "for conv in params_full_conv:\n",
      "    print '{} weights are {} dimensional and biases are {} dimensional'.format(conv, conv_params[conv][0].shape, conv_params[conv][1].shape)"
     ],
     "language": "python",
     "metadata": {},
     "outputs": []
    },
    {
     "cell_type": "markdown",
     "metadata": {},
     "source": [
      "The convolution weights are arranged in output $\\times$ input $\\times$ height $\\times$ width dimensions. To map the inner product weights to convolution filters, we could roll the flat inner product vectors into channel $\\times$ height $\\times$ width filter matrices, but actually these are identical in memory (as row major arrays) so we can assign them directly.\n",
      "\n",
      "The biases are identical to those of the inner product.\n",
      "\n",
      "Let's transplant!"
     ]
    },
    {
     "cell_type": "code",
     "collapsed": false,
     "input": [
      "for pr, pr_conv in zip(params, params_full_conv):\n",
      "    conv_params[pr_conv][0].flat = fc_params[pr][0].flat  # flat unrolls the arrays\n",
      "    conv_params[pr_conv][1][...] = fc_params[pr][1]"
     ],
     "language": "python",
     "metadata": {},
     "outputs": []
    },
    {
     "cell_type": "markdown",
     "metadata": {},
     "source": [
      "Next, save the new model weights."
     ]
    },
    {
     "cell_type": "code",
     "collapsed": false,
     "input": [
      "net_full_conv.save('net_surgery/bvlc_caffenet_full_conv.caffemodel')"
     ],
     "language": "python",
     "metadata": {},
     "outputs": []
    },
    {
     "cell_type": "markdown",
     "metadata": {},
     "source": [
      "To conclude, let's make a classification map from the example cat image and visualize the confidence of \"tiger cat\" as a probability heatmap. This gives an 8-by-8 prediction on overlapping regions of the 451 $\\times$ 451 input."
     ]
    },
    {
     "cell_type": "code",
     "collapsed": true,
     "input": [
      "import numpy as np\n",
      "import matplotlib.pyplot as plt\n",
      "%matplotlib inline\n",
      "\n",
      "# load input and configure preprocessing\n",
      "im = caffe.io.load_image('images/cat.jpg')\n",
      "transformer = caffe.io.Transformer({'data': net_full_conv.blobs['data'].data.shape})\n",
      "transformer.set_mean('data', np.load('../python/caffe/imagenet/ilsvrc_2012_mean.npy').mean(1).mean(1))\n",
      "transformer.set_transpose('data', (2,0,1))\n",
      "transformer.set_channel_swap('data', (2,1,0))\n",
      "transformer.set_raw_scale('data', 255.0)\n",
      "# make classification map by forward and print prediction indices at each location\n",
      "out = net_full_conv.forward_all(data=np.asarray([transformer.preprocess('data', im)]))\n",
      "print out['prob'][0].argmax(axis=0)\n",
      "# show net input and confidence map (probability of the top prediction at each location)\n",
      "plt.subplot(1, 2, 1)\n",
      "plt.imshow(transformer.deprocess('data', net_full_conv.blobs['data'].data[0]))\n",
      "plt.subplot(1, 2, 2)\n",
      "plt.imshow(out['prob'][0,281])"
     ],
     "language": "python",
     "metadata": {},
     "outputs": []
    },
    {
     "cell_type": "markdown",
     "metadata": {},
     "source": [
      "The classifications include various cats -- 282 = tiger cat, 281 = tabby, 283 = persian -- and foxes and other mammals.\n",
      "\n",
      "In this way the fully connected layers can be extracted as dense features across an image (see `net_full_conv.blobs['fc6'].data` for instance), which is perhaps more useful than the classification map itself.\n",
      "\n",
      "Note that this model isn't totally appropriate for sliding-window detection since it was trained for whole-image classification. Nevertheless it can work just fine. Sliding-window training and finetuning can be done by defining a sliding-window ground truth and loss such that a loss map is made for every location and solving as usual. (This is an exercise for the reader.)"
     ]
    },
    {
     "cell_type": "markdown",
     "metadata": {},
     "source": [
      "*A thank you to Rowland Depp for first suggesting this trick.*"
     ]
    }
   ],
   "metadata": {}
  }
 ]
}
